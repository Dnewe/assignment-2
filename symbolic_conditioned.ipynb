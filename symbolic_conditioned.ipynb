{
 "cells": [
  {
   "cell_type": "code",
   "execution_count": null,
   "id": "a1a26332",
   "metadata": {},
   "outputs": [],
   "source": [
    "import os\n",
    "from tqdm import tqdm\n",
    "import pretty_midi\n",
    "import torch\n",
    "import torch.nn as nn\n",
    "from torch.utils.data import DataLoader, Dataset\n",
    "import torch.optim as optim"
   ]
  },
  {
   "cell_type": "code",
   "execution_count": null,
   "id": "a170b448",
   "metadata": {},
   "outputs": [],
   "source": [
    "DATA_PATH = 'maestro-v3.0.0/2018'"
   ]
  },
  {
   "cell_type": "markdown",
   "id": "67ccb68d",
   "metadata": {},
   "source": [
    "## PROCESSING"
   ]
  }
 ],
 "metadata": {
  "language_info": {
   "name": "python"
  }
 },
 "nbformat": 4,
 "nbformat_minor": 5
}
